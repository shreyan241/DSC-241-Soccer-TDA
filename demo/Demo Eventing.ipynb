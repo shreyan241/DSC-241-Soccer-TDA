{
 "cells": [
  {
   "cell_type": "code",
   "execution_count": null,
   "metadata": {},
   "outputs": [],
   "source": [
    "# Make sure that the path is the root of the project (it can be checked with '%pwd')\n",
    "\n",
    "%cd .."
   ]
  },
  {
   "cell_type": "code",
   "execution_count": null,
   "metadata": {},
   "outputs": [],
   "source": [
    "from pandas.io.json import json_normalize\n",
    "from utils import read_json"
   ]
  },
  {
   "cell_type": "code",
   "execution_count": null,
   "metadata": {},
   "outputs": [],
   "source": [
    "lineups_path = \"data/eventing/lineups/{0}.json\"\n",
    "events_path = \"data/eventing/events/{0}.json\"\n",
    "\n",
    "team_name = \"Portugal\"\n",
    "match_id = 7576"
   ]
  },
  {
   "cell_type": "markdown",
   "metadata": {},
   "source": [
    "### Step 1: Read data"
   ]
  },
  {
   "cell_type": "code",
   "execution_count": null,
   "metadata": {},
   "outputs": [],
   "source": [
    "lineups = read_json(lineups_path.format(match_id))\n",
    "names_dict = {player[\"player_name\"]: player[\"player_nickname\"]\n",
    "              for team in lineups for player in team[\"lineup\"]}\n",
    "\n",
    "names_dict"
   ]
  },
  {
   "cell_type": "code",
   "execution_count": null,
   "metadata": {},
   "outputs": [],
   "source": [
    "events = read_json(events_path.format(match_id))\n",
    "df_events = json_normalize(events, sep=\"_\").assign(match_id=match_id)\n",
    "\n",
    "df_events.head()"
   ]
  },
  {
   "cell_type": "markdown",
   "metadata": {},
   "source": [
    "### Step 2: Compute max. minutes"
   ]
  },
  {
   "cell_type": "code",
   "execution_count": null,
   "metadata": {},
   "outputs": [],
   "source": [
    "first_red_card_minute = df_events[df_events.foul_committed_card_name.isin([\"Second Yellow\", \"Red Card\"])].minute.min()\n",
    "first_substitution_minute = df_events[df_events.type_name == \"Substitution\"].minute.min()\n",
    "max_minute = df_events.minute.max()\n",
    "\n",
    "num_minutes = min(first_substitution_minute, first_red_card_minute, max_minute)\n",
    "num_minutes"
   ]
  },
  {
   "cell_type": "markdown",
   "metadata": {},
   "source": [
    "### Step 3: Set text information"
   ]
  },
  {
   "cell_type": "code",
   "execution_count": null,
   "metadata": {},
   "outputs": [],
   "source": [
    "plot_name = \"statsbomb_match{0}_{1}\".format(match_id, team_name)\n",
    "\n",
    "opponent_team = [x for x in df_events.team_name.unique() if x != team_name][0]\n",
    "plot_title =\"{0}'s passing network against {1} (StatsBomb eventing data)\".format(team_name, opponent_team)\n",
    "\n",
    "plot_legend = \"Location: pass origin\\nSize: number of passes\\nColor: number of passes\""
   ]
  },
  {
   "cell_type": "markdown",
   "metadata": {},
   "source": [
    "### Step 4: Prepare data"
   ]
  },
  {
   "cell_type": "code",
   "execution_count": null,
   "metadata": {},
   "outputs": [],
   "source": [
    "def _statsbomb_to_point(location, max_width=120, max_height=80):\n",
    "    '''\n",
    "    Convert a point's coordinates from a StatsBomb's range to 0-1 range.\n",
    "    '''\n",
    "    return location[0] / max_width, 1-(location[1] / max_height)"
   ]
  },
  {
   "cell_type": "code",
   "execution_count": null,
   "metadata": {},
   "outputs": [],
   "source": [
    "df_passes = df_events[(df_events.type_name == \"Pass\") &\n",
    "                      (df_events.pass_outcome_name.isna()) &\n",
    "                      (df_events.team_name == team_name) &\n",
    "                      (df_events.minute < num_minutes)].copy()\n",
    "\n",
    "# If available, use player's nickname instead of full name to optimize space in plot\n",
    "df_passes[\"pass_recipient_name\"] = df_passes.pass_recipient_name.apply(lambda x: names_dict[x] if names_dict[x] else x)\n",
    "df_passes[\"player_name\"] = df_passes.player_name.apply(lambda x: names_dict[x] if names_dict[x] else x)\n",
    "\n",
    "df_passes.head()"
   ]
  },
  {
   "cell_type": "code",
   "execution_count": null,
   "metadata": {},
   "outputs": [],
   "source": [
    "df_passes[\"origin_pos_x\"] = df_passes.location.apply(lambda x: _statsbomb_to_point(x)[0])\n",
    "df_passes[\"origin_pos_y\"] = df_passes.location.apply(lambda x: _statsbomb_to_point(x)[1])\n",
    "player_position = df_passes.groupby(\"player_name\").agg({\"origin_pos_x\": \"median\", \"origin_pos_y\": \"median\"})\n",
    "\n",
    "player_position"
   ]
  },
  {
   "cell_type": "code",
   "execution_count": null,
   "metadata": {},
   "outputs": [],
   "source": [
    "player_pass_count = df_passes.groupby(\"player_name\").size().to_frame(\"num_passes\")\n",
    "player_pass_value = df_passes.groupby(\"player_name\").size().to_frame(\"pass_value\")\n",
    "\n",
    "player_pass_count"
   ]
  },
  {
   "cell_type": "code",
   "execution_count": null,
   "metadata": {},
   "outputs": [],
   "source": [
    "df_passes[\"pair_key\"] = df_passes.apply(lambda x: \"_\".join(sorted([x[\"player_name\"], x[\"pass_recipient_name\"]])), axis=1)\n",
    "pair_pass_count = df_passes.groupby(\"pair_key\").size().to_frame(\"num_passes\")\n",
    "pair_pass_value = df_passes.groupby(\"pair_key\").size().to_frame(\"pass_value\")\n",
    "\n",
    "pair_pass_count.head(10)"
   ]
  },
  {
   "cell_type": "markdown",
   "metadata": {},
   "source": [
    "### Step 5: Plot passing network"
   ]
  },
  {
   "cell_type": "code",
   "execution_count": null,
   "metadata": {},
   "outputs": [],
   "source": [
    "from visualization.passing_network import draw_pitch, draw_pass_map\n",
    "import matplotlib.pyplot as plt\n",
    "\n",
    "\n",
    "ax = draw_pitch()\n",
    "ax = draw_pass_map(ax, player_position, player_pass_count, player_pass_value,\n",
    "              pair_pass_count, pair_pass_value, plot_title, plot_legend)\n",
    "\n",
    "plt.savefig(\"demo/{0}.png\".format(plot_name))"
   ]
  },
  {
   "cell_type": "code",
   "execution_count": null,
   "metadata": {},
   "outputs": [],
   "source": []
  },
  {
   "cell_type": "code",
   "execution_count": null,
   "metadata": {},
   "outputs": [],
   "source": []
  }
 ],
 "metadata": {
  "kernelspec": {
   "display_name": "Python 3",
   "language": "python",
   "name": "python3"
  },
  "language_info": {
   "codemirror_mode": {
    "name": "ipython",
    "version": 3
   },
   "file_extension": ".py",
   "mimetype": "text/x-python",
   "name": "python",
   "nbconvert_exporter": "python",
   "pygments_lexer": "ipython3",
   "version": "3.6.9"
  }
 },
 "nbformat": 4,
 "nbformat_minor": 2
}
