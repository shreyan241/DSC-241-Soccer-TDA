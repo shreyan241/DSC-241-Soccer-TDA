{
 "cells": [
  {
   "cell_type": "code",
   "execution_count": 1,
   "metadata": {},
   "outputs": [],
   "source": [
    "import pandas as pd\n",
    "from pandas import json_normalize\n",
    "from utils import read_json\n",
    "import socceraction.vaep as vaep\n",
    "import numpy as np\n",
    "import pandas as pd\n",
    "import json\n",
    "import warnings\n",
    "import os\n",
    "\n",
    "from processing.eventing import StatsBombBasicPassingNetwork, StatsBombValuePassingNetwork\n",
    "\n",
    "pd.set_option(\"display.max_columns\", None)\n",
    "\n",
    "warnings.simplefilter(action=\"ignore\", category=pd.errors.PerformanceWarning)\n",
    "\n",
    "# match_id = 68352\n",
    "match_id = 69225\n",
    "\n",
    "lineups = read_json(f\"data/eventing/lineups/{match_id}.json\")\n",
    "\n",
    "# team_name = lineups[0][\"team_name\"]\n",
    "team_name = \"Real Madrid\""
   ]
  },
  {
   "cell_type": "code",
   "execution_count": 2,
   "metadata": {},
   "outputs": [
    {
     "data": {
      "text/plain": [
       "{'Gnégnéri Yaya Touré': 'Yaya Touré',\n",
       " 'Daniel Alves da Silva': 'Dani Alves',\n",
       " 'Sergio Busquets i Burgos': 'Sergio Busquets',\n",
       " 'Lionel Andrés Messi Cuccittini': 'Lionel Messi',\n",
       " 'Rafael Márquez Álvarez': 'Rafael Márquez',\n",
       " 'Eiður Smári Guðjohnsen': 'Eiður Guðjohnsen',\n",
       " 'Thierry Henry': None,\n",
       " 'Aliaksandr Hleb': 'Aleksandr Hleb',\n",
       " \"Samuel Eto''o Fils\": \"Samuel Eto'o\",\n",
       " 'Carles Puyol i Saforcada': 'Carles Puyol',\n",
       " 'Xavier Hernández Creus': 'Xavi',\n",
       " 'Seydou Kéita': 'Seydou Kéita',\n",
       " 'Víctor Valdés Arribas': 'Víctor Valdés',\n",
       " 'Eric-Sylvain Bilal Abidal': 'Éric Abidal',\n",
       " 'Wesley Sneijder': 'W. Sneijder',\n",
       " 'Sergio Ramos García': 'Sergio Ramos',\n",
       " 'Gonzalo Gerardo Higuaín': 'Gonzalo Higuaín',\n",
       " 'Francisco Javier García Fernández': 'Javi García',\n",
       " 'Iker Casillas Fernández': 'Iker Casillas',\n",
       " 'Miguel Ángel Salgado Fernández': 'Míchel Salgado',\n",
       " 'Raúl González Blanco': 'Raúl',\n",
       " 'Fabio Cannavaro': None,\n",
       " 'Rafael van der Vaart': 'Rafael van der Vaart',\n",
       " 'Christoph Metzelder': None,\n",
       " 'Royston Ricky Drenthe': 'Royston Drenthe',\n",
       " 'Miguel Palanca Fernández': 'Miguel Palanca',\n",
       " 'José Maria Gutiérrez Hernández': 'Guti',\n",
       " 'Fernando Rubén Gago': 'Fernando Gago'}"
      ]
     },
     "execution_count": 2,
     "metadata": {},
     "output_type": "execute_result"
    }
   ],
   "source": [
    "names_dict = {\n",
    "    player[\"player_name\"]: player[\"player_nickname\"]\n",
    "    for team in lineups\n",
    "    for player in team[\"lineup\"]\n",
    "}\n",
    "names_dict"
   ]
  },
  {
   "cell_type": "code",
   "execution_count": 3,
   "metadata": {},
   "outputs": [],
   "source": [
    "events = read_json(f\"data/eventing/events/{match_id}.json\")\n",
    "df_events = json_normalize(events, sep=\"_\").assign(match_id=match_id)"
   ]
  },
  {
   "cell_type": "code",
   "execution_count": 4,
   "metadata": {},
   "outputs": [],
   "source": [
    "# We select all successful passes done by the selected team before the minute\n",
    "# of the first substitution or red card.\n",
    "\n",
    "first_red_card_minute = df_events[df_events.foul_committed_card_name.isin([\"Second Yellow\", \"Red Card\"])].minute.min()\n",
    "first_substitution_minute = df_events[df_events.type_name == \"Substitution\"].minute.min()\n",
    "max_minute = df_events.minute.max()\n",
    "\n",
    "num_minutes = min(first_substitution_minute, first_red_card_minute, max_minute)"
   ]
  },
  {
   "cell_type": "markdown",
   "metadata": {},
   "source": [
    "- pass_end_location -> avg distance from opp goal\n",
    "- pass_type_name -> no of each\n",
    "- pass_through_ball -> %\n",
    "- pass completion rate\n",
    "- avg no of passes\n",
    "- no of passes received by most advanced player\n",
    "- avg position distance (exclude goalkeeper)\n",
    "- Average Number of Unique Passing Links per Player\n",
    "- Betti Number 0"
   ]
  },
  {
   "cell_type": "code",
   "execution_count": 5,
   "metadata": {},
   "outputs": [],
   "source": [
    "# Taking into account all legitimate passes. Don't care about the same playing eleven on the field.\n",
    "\n",
    "df_passes = df_events[\n",
    "    (df_events.type_name == \"Pass\")\n",
    "    & (df_events.pass_outcome_name != \"Injury Clearance\")\n",
    "    & (df_events.team_name == team_name)\n",
    "    # & (df_events.minute < num_minutes)\n",
    "].copy()"
   ]
  },
  {
   "cell_type": "code",
   "execution_count": 6,
   "metadata": {},
   "outputs": [],
   "source": [
    "# Function to convert location data to points\n",
    "def _statsbomb_to_point(location, max_width=120, max_height=80):\n",
    "    \"\"\"\n",
    "    Convert a point's coordinates from a StatsBomb's range to 0-1 range.\n",
    "    \"\"\"\n",
    "    return location[0] / max_width, 1 - (location[1] / max_height)\n",
    "\n",
    "# Euclidean distance function\n",
    "def _calculate_distance(point1, point2):\n",
    "    return np.sqrt((point2[0] - point1[0]) ** 2 + (point2[1] - point1[1]) ** 2)"
   ]
  },
  {
   "cell_type": "code",
   "execution_count": 7,
   "metadata": {},
   "outputs": [
    {
     "name": "stdout",
     "output_type": "stream",
     "text": [
      "Average Distance: 0.6497966942958443\n"
     ]
    }
   ],
   "source": [
    "# avg_dist_opp_goal -> avg distance from opp goal - pass_end_location\n",
    "\n",
    "def calculate_average_distance_from_goal(df, fixed_point):\n",
    "    \"\"\"\n",
    "    Calculate the average distance from a fixed point in the DataFrame.\n",
    "\n",
    "    Parameters:\n",
    "    - df (pd.DataFrame): DataFrame containing the 'location' column.\n",
    "    - fixed_point (tuple): A tuple (x, y) representing the fixed point.\n",
    "\n",
    "    Returns:\n",
    "    - float: The average distance from the fixed point to all points in the 'location' column.\n",
    "    \"\"\"\n",
    "\n",
    "    # Apply transformations and calculate distances\n",
    "    distances = df[\"location\"].apply(\n",
    "        lambda x: _calculate_distance(fixed_point, _statsbomb_to_point(x))\n",
    "    )\n",
    "\n",
    "    return distances.mean()\n",
    "\n",
    "\n",
    "goal = (1, 0.5)\n",
    "average_distance = calculate_average_distance_from_goal(df_passes, goal)\n",
    "print(\"Average Distance:\", average_distance)"
   ]
  },
  {
   "cell_type": "code",
   "execution_count": 8,
   "metadata": {},
   "outputs": [],
   "source": [
    "# pass_type_name -> no of each\n",
    "\n",
    "def count_pass_type(df, dropna=True, normalize=False):\n",
    "    \"\"\"\n",
    "    Count the occurrences of each unique pass type in a DataFrame.\n",
    "\n",
    "    Parameters:\n",
    "    - df (pd.DataFrame): DataFrame containing the pass data.\n",
    "\n",
    "    Returns:\n",
    "    - pd.Series: A Series with the count of each unique pass type.\n",
    "    \"\"\"\n",
    "    pass_type_counts = df.pass_type_name.value_counts(normalize=normalize, dropna=dropna)\n",
    "    return pass_type_counts"
   ]
  },
  {
   "cell_type": "code",
   "execution_count": 9,
   "metadata": {},
   "outputs": [
    {
     "data": {
      "text/plain": [
       "pass_type_name\n",
       "Recovery        52\n",
       "Throw-in        21\n",
       "Free Kick       16\n",
       "Goal Kick       10\n",
       "Interception     6\n",
       "Corner           4\n",
       "Kick Off         3\n",
       "Name: count, dtype: int64"
      ]
     },
     "execution_count": 9,
     "metadata": {},
     "output_type": "execute_result"
    }
   ],
   "source": [
    "count_pass_type(df_passes)"
   ]
  },
  {
   "cell_type": "code",
   "execution_count": 10,
   "metadata": {},
   "outputs": [
    {
     "name": "stdout",
     "output_type": "stream",
     "text": [
      "Percentage of Through Balls: 100.0\n"
     ]
    }
   ],
   "source": [
    "def calculate_through_ball_percentage(df, dropna=True):\n",
    "    \"\"\"\n",
    "    Calculate the percentage of through balls in a given DataFrame column.\n",
    "\n",
    "    Parameters:\n",
    "    - df (pd.DataFrame): DataFrame containing the pass data.\n",
    "    - column_name (str): Name of the column indicating whether a pass is a through ball.\n",
    "\n",
    "    Returns:\n",
    "    - float: The percentage of through balls relative to all entries in the column, excluding NA values.\n",
    "    \"\"\"\n",
    "\n",
    "    # Calculate the number of through balls\n",
    "    through_balls_count = df.pass_through_ball.sum()  # True values are counted as 1, False as 0\n",
    "\n",
    "    if dropna:\n",
    "        # Calculate the total number of non-NA entries\n",
    "        total_passes = df.pass_through_ball.count()\n",
    "    else:\n",
    "        # Calculate the total number of entries\n",
    "        total_passes = df.pass_through_ball.shape[0]\n",
    "\n",
    "    # Calculate the percentage of through balls\n",
    "    if total_passes > 0:\n",
    "        through_ball_percentage = (through_balls_count / total_passes) * 100\n",
    "        return through_ball_percentage\n",
    "    else:\n",
    "        return 0\n",
    "\n",
    "through_ball_percentage = calculate_through_ball_percentage(df_passes)\n",
    "print(\"Percentage of Through Balls:\", through_ball_percentage)"
   ]
  },
  {
   "cell_type": "code",
   "execution_count": 11,
   "metadata": {},
   "outputs": [
    {
     "name": "stdout",
     "output_type": "stream",
     "text": [
      "Pass Completion Rate: 63.54838709677419\n"
     ]
    }
   ],
   "source": [
    "# pass completion rate\n",
    "\n",
    "def calculate_pass_completion_rate(df):\n",
    "    \"\"\"\n",
    "    Calculate the pass completion rate from the pass outcome column.\n",
    "\n",
    "    Parameters:\n",
    "    - df (pd.DataFrame): DataFrame containing the pass data.\n",
    "    - outcome_column (str): Name of the column indicating the outcome of a pass.\n",
    "\n",
    "    Returns:\n",
    "    - float: The pass completion rate as a percentage.\n",
    "    \"\"\"\n",
    "    # Count the number of successful passes (NaN in the outcome column)\n",
    "    successful_passes_count = df.pass_outcome_name.isna().sum()\n",
    "    # Count the total number of passes\n",
    "    total_passes = len(df.pass_outcome_name) \n",
    "\n",
    "    # Calculate the pass completion rate\n",
    "    if total_passes > 0:\n",
    "        completion_rate = (successful_passes_count / total_passes) * 100\n",
    "        return completion_rate\n",
    "    else:\n",
    "        return 0\n",
    "\n",
    "\n",
    "pass_completion_rate = calculate_pass_completion_rate(df_passes)\n",
    "print(\"Pass Completion Rate:\", pass_completion_rate)"
   ]
  },
  {
   "cell_type": "code",
   "execution_count": 12,
   "metadata": {},
   "outputs": [
    {
     "name": "stdout",
     "output_type": "stream",
     "text": [
      "Average Passes Per Player: 22.142857142857142\n"
     ]
    }
   ],
   "source": [
    "# no of passes received by most advanced player\n",
    "\n",
    "def calculate_avg_passes_per_player(df):\n",
    "    \"\"\"\n",
    "    Calculate the average number of passes per player.\n",
    "\n",
    "    Parameters:\n",
    "    - df (pd.DataFrame): DataFrame containing the pass data.\n",
    "\n",
    "    Returns:\n",
    "    - float: Average number of passes per player.\n",
    "    \"\"\"\n",
    "    \n",
    "    # Total number of passes\n",
    "    total_passes = df.shape[0]\n",
    "    # Number of unique players\n",
    "    num_unique_players = df.player_id.nunique()\n",
    "\n",
    "    # Calculate the average number of passes per player\n",
    "    if num_unique_players > 0:\n",
    "        avg_passes_per_player = total_passes / num_unique_players\n",
    "        return avg_passes_per_player\n",
    "    else:\n",
    "        return 0 \n",
    "\n",
    "avg_passes_per_player = calculate_avg_passes_per_player(df_passes)\n",
    "print(\"Average Passes Per Player:\", avg_passes_per_player)"
   ]
  },
  {
   "cell_type": "code",
   "execution_count": 13,
   "metadata": {},
   "outputs": [
    {
     "name": "stdout",
     "output_type": "stream",
     "text": [
      "Most Advanced Player: Miguel Palanca Fernández\n",
      "Number of Passes Received by the Most Advanced Player: 19\n"
     ]
    }
   ],
   "source": [
    "# number of passes received by the most advanced player\n",
    "\n",
    "def calculate_passes_to_most_advanced_player(df):\n",
    "    \"\"\"\n",
    "    Calculate the number of passes received by the most advanced player based on the median of their pass origin positions.\n",
    "\n",
    "    Parameters:\n",
    "    - df (pd.DataFrame): DataFrame containing the pass data.\n",
    "\n",
    "    Returns:\n",
    "    - int: Number of passes received by the most advanced player.\n",
    "    \"\"\"\n",
    "\n",
    "    # Calculate each player's average pass origin's coordinates\n",
    "    df[\"origin_pos_x\"] = df.location.apply(lambda x: _statsbomb_to_point(x)[0])\n",
    "    df[\"origin_pos_y\"] = df.location.apply(lambda x: _statsbomb_to_point(x)[1])\n",
    "\n",
    "    # Determine the median position for each player\n",
    "    player_position = df.groupby(\"player_name\").agg({\"origin_pos_x\": \"median\", \"origin_pos_y\": \"median\"})\n",
    "\n",
    "    players_distances = player_position.apply(\n",
    "        lambda x: _calculate_distance((0, 0.5), (x[\"origin_pos_x\"], x[\"origin_pos_y\"])), axis=1)\n",
    "\n",
    "    # Identify the most advanced player\n",
    "    most_advanced_player = players_distances.idxmax()\n",
    "    # Count the number of passes received by this player\n",
    "    passes_received = df[df[\"pass_recipient_name\"] == most_advanced_player].shape[0]\n",
    "\n",
    "    return most_advanced_player, passes_received\n",
    "\n",
    "# Example usage:\n",
    "# Assuming df_passes is your DataFrame and it includes necessary columns\n",
    "\n",
    "most_advanced_player, number_of_passes_received = (\n",
    "    calculate_passes_to_most_advanced_player(df_passes)\n",
    ")\n",
    "print(\"Most Advanced Player:\", most_advanced_player)\n",
    "print(\"Number of Passes Received by the Most Advanced Player:\", number_of_passes_received)"
   ]
  },
  {
   "cell_type": "code",
   "execution_count": 14,
   "metadata": {},
   "outputs": [
    {
     "name": "stdout",
     "output_type": "stream",
     "text": [
      "Average X Position (excluding goalkeepers): 0.45876325088339226\n"
     ]
    },
    {
     "name": "stderr",
     "output_type": "stream",
     "text": [
      "/var/folders/gl/s_1pz2z130g9ct6hvptjf5fh0000gn/T/ipykernel_14681/1849874024.py:20: SettingWithCopyWarning: \n",
      "A value is trying to be set on a copy of a slice from a DataFrame.\n",
      "Try using .loc[row_indexer,col_indexer] = value instead\n",
      "\n",
      "See the caveats in the documentation: https://pandas.pydata.org/pandas-docs/stable/user_guide/indexing.html#returning-a-view-versus-a-copy\n",
      "  non_goalkeepers[\"origin_pos_x\"] = df.location.apply(lambda x: _statsbomb_to_point(x)[0])\n"
     ]
    }
   ],
   "source": [
    "# avg position distance (exclude goalkeeper)\n",
    "\n",
    "def calculate_avg_x_position_excluding_goalkeepers(df):\n",
    "    \"\"\"\n",
    "    Calculate the average x position for all players excluding goalkeepers.\n",
    "\n",
    "    Parameters:\n",
    "    - df (pd.DataFrame): DataFrame containing the player data with positions.\n",
    "    - position_column (str): Column name where player roles or positions are defined.\n",
    "    - x_position_column (str): Column name where x positions are stored.\n",
    "\n",
    "    Returns:\n",
    "    - float: Average x position for non-goalkeepers.\n",
    "    \"\"\"\n",
    "\n",
    "    # Filter out goalkeepers\n",
    "    non_goalkeepers = df[df[\"position_name\"] != \"Goalkeeper\"]\n",
    "\n",
    "    # Calculate the average x position for non-goalkeepers\n",
    "    non_goalkeepers[\"origin_pos_x\"] = df.location.apply(lambda x: _statsbomb_to_point(x)[0])\n",
    "    average_x_position = non_goalkeepers[\"origin_pos_x\"].mean()\n",
    "\n",
    "    return average_x_position\n",
    "\n",
    "\n",
    "avg_x_position_non_gk = calculate_avg_x_position_excluding_goalkeepers(df_passes)\n",
    "print(\"Average X Position (excluding goalkeepers):\", avg_x_position_non_gk)"
   ]
  },
  {
   "cell_type": "code",
   "execution_count": 15,
   "metadata": {},
   "outputs": [
    {
     "name": "stdout",
     "output_type": "stream",
     "text": [
      "Average Number of Unique Passing Links per Player: 7.071428571428571\n"
     ]
    }
   ],
   "source": [
    "# Average Number of Unique Passing Links per Player\n",
    "\n",
    "def average_unique_passing_links(df):\n",
    "    \"\"\"\n",
    "    Calculate the average number of unique passing links per player.\n",
    "\n",
    "    Parameters:\n",
    "    - df (pd.DataFrame): DataFrame containing the pass data.\n",
    "    \n",
    "    Returns:\n",
    "    - float: Average number of unique passing links per player.\n",
    "    \"\"\"\n",
    "\n",
    "    # Group by player and list unique recipients\n",
    "    unique_links_per_player = df.groupby(\"player_name\")[\"pass_recipient_name\"]\\\n",
    "        .agg(lambda x: x.dropna().nunique())\n",
    "\n",
    "    # Calculate the average number of unique links\n",
    "    average_links = unique_links_per_player.mean()\n",
    "\n",
    "    return average_links\n",
    "\n",
    "avg_links = average_unique_passing_links(df_passes)\n",
    "print(\"Average Number of Unique Passing Links per Player:\", avg_links)"
   ]
  },
  {
   "cell_type": "code",
   "execution_count": 16,
   "metadata": {},
   "outputs": [],
   "source": [
    "def get_name_or_default(name):\n",
    "    if not name or pd.isna(name):  # Checks if name is None or NaN\n",
    "        return None\n",
    "    # Safely gets the value from the dictionary or returns the name itself\n",
    "    return names_dict.get(name, name) if names_dict.get(name) is not None else name\n",
    "\n",
    "\n",
    "# If available, use player's nickname instead of full name to optimize space in plot\n",
    "# df_new[\"pass_recipient_name\"] = df_new.pass_recipient_name.apply(lambda x: None if not x else names_dict[x] if names_dict[x] else x)\n",
    "df_passes[\"pass_recipient_name\"] = df_passes[\"pass_recipient_name\"].apply(\n",
    "    get_name_or_default\n",
    ")\n",
    "df_passes[\"player_name\"] = df_passes.player_name.apply(\n",
    "    lambda x: names_dict[x] if names_dict[x] else x\n",
    ")"
   ]
  },
  {
   "cell_type": "code",
   "execution_count": 17,
   "metadata": {},
   "outputs": [],
   "source": [
    "predictions_h5 = os.path.join(\"data/eventing\", \"predictions.h5\")\n",
    "\n",
    "spadl_h5 = os.path.join(\"data/eventing\", \"spadl-statsbomb.h5\")\n",
    "\n",
    "actiontypes = pd.read_hdf(spadl_h5, \"actiontypes\")\n",
    "bodyparts = pd.read_hdf(spadl_h5, \"bodyparts\")\n",
    "results = pd.read_hdf(spadl_h5, \"results\")\n",
    "players = pd.read_hdf(spadl_h5, \"players\")\n",
    "teams = pd.read_hdf(spadl_h5, \"teams\")\n",
    "actions = pd.read_hdf(spadl_h5, \"actions/game_{0}\".format(match_id))\n",
    "\n",
    "actions = (\n",
    "    actions.merge(actiontypes, how=\"left\")\n",
    "    .merge(results, how=\"left\")\n",
    "    .merge(bodyparts, how=\"left\")\n",
    "    .merge(players, how=\"left\")\n",
    "    .merge(teams, how=\"left\")\n",
    ")"
   ]
  },
  {
   "cell_type": "code",
   "execution_count": 18,
   "metadata": {},
   "outputs": [
    {
     "name": "stderr",
     "output_type": "stream",
     "text": [
      "/Users/ananshar/anaconda3/envs/soccer_analysis/lib/python3.10/site-packages/socceraction/vaep.py:33: FutureWarning: Setting an item of incompatible dtype is deprecated and will raise an error in a future version of pandas. Value '0.792453' has dtype incompatible with float32, please explicitly cast to a compatible dtype first.\n",
      "  prev_scores[penalty_idx] = 0.792453\n"
     ]
    }
   ],
   "source": [
    "preds = pd.read_hdf(predictions_h5, \"game_{0}\".format(match_id))\n",
    "values = vaep.value(actions, preds.scores, preds.concedes)\n",
    "\n",
    "df_vaep = pd.concat([actions, preds, values], axis=1)\n",
    "# df_vaep[\"player_name\"] = df_vaep.apply(lambda x: x[\"player_nickname\"] if x[\"player_nickname\"] else x[\"player_name\"], axis=1)\n",
    "df_vaep[\"player_name\"] = df_vaep.player_name.apply(lambda x: names_dict[x] if names_dict[x] else x)"
   ]
  },
  {
   "cell_type": "code",
   "execution_count": 19,
   "metadata": {},
   "outputs": [
    {
     "name": "stdout",
     "output_type": "stream",
     "text": [
      "Average Team VAEP Value: 0.006071046009353653\n"
     ]
    }
   ],
   "source": [
    "def calculate_team_pass_value(df_passes, df_vaep):\n",
    "    # Merge df_passes and df_vaep on timestamp and player_name\n",
    "    df_result = pd.merge(df_passes[[\"timestamp\", \"player_name\", \"pass_recipient_name\"]], df_vaep,\n",
    "        on=[\"timestamp\", \"player_name\"], how=\"left\")\n",
    "\n",
    "    # Filter out negative actions\n",
    "    df_result[\"vaep_value\"] = df_result.vaep_value.apply(lambda x: x if x >= 0 else None)\n",
    "\n",
    "    # Group by player_name and calculate mean vaep_value\n",
    "    player_pass_value = df_result.groupby(\"player_name\").agg(pass_value=(\"vaep_value\", \"mean\"))\n",
    "\n",
    "    return player_pass_value.mean().values[0]\n",
    "\n",
    "team_pass_value = calculate_team_pass_value(df_passes, df_vaep)\n",
    "print(\"Average Team VAEP Value:\", team_pass_value)"
   ]
  },
  {
   "cell_type": "code",
   "execution_count": null,
   "metadata": {},
   "outputs": [],
   "source": []
  }
 ],
 "metadata": {
  "kernelspec": {
   "display_name": "soccer_analysis",
   "language": "python",
   "name": "python3"
  },
  "language_info": {
   "codemirror_mode": {
    "name": "ipython",
    "version": 3
   },
   "file_extension": ".py",
   "mimetype": "text/x-python",
   "name": "python",
   "nbconvert_exporter": "python",
   "pygments_lexer": "ipython3",
   "version": "3.10.14"
  }
 },
 "nbformat": 4,
 "nbformat_minor": 2
}
